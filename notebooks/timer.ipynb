{
 "cells": [
  {
   "cell_type": "code",
   "execution_count": 1,
   "metadata": {},
   "outputs": [],
   "source": [
    "import pandas as pd\n",
    "import numpy as np\n",
    "import datetime\n",
    "import time\n",
    "\n",
    "import pytz\n",
    "import warnings\n",
    "warnings.filterwarnings(\"ignore\")\n",
    "%load_ext autoreload\n",
    "%autoreload 2"
   ]
  },
  {
   "cell_type": "code",
   "execution_count": 7,
   "metadata": {},
   "outputs": [
    {
     "data": {
      "text/plain": [
       "['2022-04-13 17:15', '2022-04-13 17:16']"
      ]
     },
     "execution_count": 7,
     "metadata": {},
     "output_type": "execute_result"
    }
   ],
   "source": [
    "def timer(new_minute = False, timezone = pytz.timezone('America/New_York')):\n",
    "    \"\"\"Getting current time every 5s and checking if current time exist\n",
    "       in time_list(by minutes). Once current time match any in time_list\n",
    "       remove value from time_list and return True value\n",
    "    \"\"\"\n",
    "    while new_minute==False:\n",
    "        # get current minute\n",
    "        current_time = datetime.datetime.strftime(datetime.datetime.now(tz = timezone), '%Y-%m-%d %H:%M')\n",
    "        if  current_time in time_list: # if current time appears in time_list\n",
    "            print('There is time match')\n",
    "            time_list.remove(current_time) # remove current time from time_list\n",
    "            break # exit loop and return True\n",
    "        print('Waiting for a new minute')\n",
    "        print(f'Current time: {current_time}')\n",
    "        time.sleep(5)\n",
    "    print (f\"Current time now: {current_time}\")\n",
    "    return True\n",
    "\n",
    "def generate_datetimes(date_from_str='2022-04-13 17:15:00'):\n",
    "    date_from = datetime.datetime.strptime(date_from_str, '%Y-%m-%d %H:%M:%S')\n",
    "    for minute in range(2): #390\n",
    "        yield date_from + datetime.timedelta(minutes=minute)\n",
    "        \n",
    "time_list = [date.strftime('%Y-%m-%d %H:%M') for date in generate_datetimes()]\n",
    "time_list[:5]"
   ]
  },
  {
   "cell_type": "code",
   "execution_count": 8,
   "metadata": {},
   "outputs": [
    {
     "name": "stdout",
     "output_type": "stream",
     "text": [
      "Waiting for a new minute\n",
      "2022-04-13 17:14\n",
      "Waiting for a new minute\n",
      "2022-04-13 17:14\n",
      "Waiting for a new minute\n",
      "2022-04-13 17:14\n",
      "Waiting for a new minute\n",
      "2022-04-13 17:14\n",
      "Waiting for a new minute\n",
      "2022-04-13 17:14\n",
      "Waiting for a new minute\n",
      "2022-04-13 17:14\n",
      "There is time match\n",
      "Current time now: 2022-04-13 17:15\n",
      "New Minute\n",
      "Waiting for a new minute\n",
      "2022-04-13 17:15\n",
      "Waiting for a new minute\n",
      "2022-04-13 17:15\n",
      "Waiting for a new minute\n",
      "2022-04-13 17:15\n",
      "Waiting for a new minute\n",
      "2022-04-13 17:15\n",
      "Waiting for a new minute\n",
      "2022-04-13 17:15\n",
      "Waiting for a new minute\n",
      "2022-04-13 17:15\n",
      "Waiting for a new minute\n",
      "2022-04-13 17:15\n",
      "Waiting for a new minute\n",
      "2022-04-13 17:15\n",
      "Waiting for a new minute\n",
      "2022-04-13 17:15\n",
      "Waiting for a new minute\n",
      "2022-04-13 17:15\n",
      "Waiting for a new minute\n",
      "2022-04-13 17:15\n",
      "Waiting for a new minute\n",
      "2022-04-13 17:15\n",
      "There is time match\n",
      "Current time now: 2022-04-13 17:16\n"
     ]
    }
   ],
   "source": [
    "if timer() == True:\n",
    "    if len(time_list)==0:\n",
    "        print('Time Run out')\n",
    "    else:\n",
    "        print('New Minute')\n",
    "        timer()"
   ]
  },
  {
   "cell_type": "code",
   "execution_count": 9,
   "metadata": {},
   "outputs": [
    {
     "data": {
      "text/plain": [
       "[]"
      ]
     },
     "execution_count": 9,
     "metadata": {},
     "output_type": "execute_result"
    }
   ],
   "source": [
    "time_list"
   ]
  },
  {
   "cell_type": "code",
   "execution_count": null,
   "metadata": {},
   "outputs": [],
   "source": []
  }
 ],
 "metadata": {
  "kernelspec": {
   "display_name": "Python 3",
   "language": "python",
   "name": "python3"
  },
  "language_info": {
   "codemirror_mode": {
    "name": "ipython",
    "version": 3
   },
   "file_extension": ".py",
   "mimetype": "text/x-python",
   "name": "python",
   "nbconvert_exporter": "python",
   "pygments_lexer": "ipython3",
   "version": "3.8.3"
  }
 },
 "nbformat": 4,
 "nbformat_minor": 4
}
