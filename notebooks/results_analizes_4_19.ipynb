{
 "cells": [
  {
   "cell_type": "code",
   "execution_count": 1,
   "metadata": {},
   "outputs": [],
   "source": [
    "import pandas as pd\n",
    "import numpy as np\n",
    "import datetime\n",
    "import time\n",
    "\n",
    "from tda import auth, client\n",
    "import json\n",
    "from config import api_key, redirect_uri, token_path, account_id, executable_path\n",
    "\n",
    "# Machine learning libraries\n",
    "from sklearn.svm import SVC\n",
    "from scipy.stats import linregress\n",
    "from sklearn.preprocessing import StandardScaler\n",
    "from sklearn.model_selection import RandomizedSearchCV\n",
    "from sklearn.model_selection import TimeSeriesSplit\n",
    "from sklearn.pipeline import Pipeline\n",
    "from sklearn.metrics import confusion_matrix\n",
    "from sklearn.metrics import classification_report\n",
    "from sklearn import metrics\n",
    "from sklearn.metrics import accuracy_score\n",
    "from sklearn.metrics import plot_confusion_matrix, recall_score, precision_score, classification_report\n",
    "import talib as ta\n",
    "pd.set_option('display.max_columns', 100)\n",
    "pd.set_option('display.max_rows', 300)\n",
    "\n",
    "from utils import *\n",
    "%load_ext autoreload\n",
    "%autoreload 2"
   ]
  },
  {
   "cell_type": "code",
   "execution_count": 2,
   "metadata": {},
   "outputs": [],
   "source": [
    "# set connection with brocker account\n",
    "connection = get_account_acess(api_key, redirect_uri, token_path, account_id, executable_path)"
   ]
  },
  {
   "cell_type": "code",
   "execution_count": 35,
   "metadata": {},
   "outputs": [
    {
     "data": {
      "text/html": [
       "<div>\n",
       "<style scoped>\n",
       "    .dataframe tbody tr th:only-of-type {\n",
       "        vertical-align: middle;\n",
       "    }\n",
       "\n",
       "    .dataframe tbody tr th {\n",
       "        vertical-align: top;\n",
       "    }\n",
       "\n",
       "    .dataframe thead th {\n",
       "        text-align: right;\n",
       "    }\n",
       "</style>\n",
       "<table border=\"1\" class=\"dataframe\">\n",
       "  <thead>\n",
       "    <tr style=\"text-align: right;\">\n",
       "      <th></th>\n",
       "      <th>open</th>\n",
       "      <th>high</th>\n",
       "      <th>low</th>\n",
       "      <th>close</th>\n",
       "      <th>volume</th>\n",
       "    </tr>\n",
       "    <tr>\n",
       "      <th>datetime</th>\n",
       "      <th></th>\n",
       "      <th></th>\n",
       "      <th></th>\n",
       "      <th></th>\n",
       "      <th></th>\n",
       "    </tr>\n",
       "  </thead>\n",
       "  <tbody>\n",
       "    <tr>\n",
       "      <th>2022-04-19 12:36</th>\n",
       "      <td>1025.49</td>\n",
       "      <td>1025.50</td>\n",
       "      <td>1024.7720</td>\n",
       "      <td>1024.7720</td>\n",
       "      <td>4119</td>\n",
       "    </tr>\n",
       "    <tr>\n",
       "      <th>2022-04-19 12:37</th>\n",
       "      <td>1024.75</td>\n",
       "      <td>1024.75</td>\n",
       "      <td>1023.5400</td>\n",
       "      <td>1024.1900</td>\n",
       "      <td>19469</td>\n",
       "    </tr>\n",
       "    <tr>\n",
       "      <th>2022-04-19 12:38</th>\n",
       "      <td>1024.19</td>\n",
       "      <td>1024.22</td>\n",
       "      <td>1023.4000</td>\n",
       "      <td>1024.2200</td>\n",
       "      <td>10723</td>\n",
       "    </tr>\n",
       "    <tr>\n",
       "      <th>2022-04-19 12:39</th>\n",
       "      <td>1024.33</td>\n",
       "      <td>1024.60</td>\n",
       "      <td>1024.0978</td>\n",
       "      <td>1024.1500</td>\n",
       "      <td>2956</td>\n",
       "    </tr>\n",
       "    <tr>\n",
       "      <th>2022-04-19 12:40</th>\n",
       "      <td>1024.32</td>\n",
       "      <td>1024.48</td>\n",
       "      <td>1023.2300</td>\n",
       "      <td>1023.7201</td>\n",
       "      <td>12342</td>\n",
       "    </tr>\n",
       "  </tbody>\n",
       "</table>\n",
       "</div>"
      ],
      "text/plain": [
       "                     open     high        low      close  volume\n",
       "datetime                                                        \n",
       "2022-04-19 12:36  1025.49  1025.50  1024.7720  1024.7720    4119\n",
       "2022-04-19 12:37  1024.75  1024.75  1023.5400  1024.1900   19469\n",
       "2022-04-19 12:38  1024.19  1024.22  1023.4000  1024.2200   10723\n",
       "2022-04-19 12:39  1024.33  1024.60  1024.0978  1024.1500    2956\n",
       "2022-04-19 12:40  1024.32  1024.48  1023.2300  1023.7201   12342"
      ]
     },
     "execution_count": 35,
     "metadata": {},
     "output_type": "execute_result"
    }
   ],
   "source": [
    "# get historical data\n",
    "data = pd.DataFrame(connection.get_price_history_every_minute('TSLA', \n",
    "                                                              start_datetime = datetime.datetime.fromisoformat('2022-04-19 12:36:00'),\n",
    "                                                              need_extended_hours_data=False).json()['candles'])\n",
    "data['datetime'] = data['datetime'].apply(lambda x : datetime.datetime.fromtimestamp(x/1000.0))\n",
    "data['datetime'] = data['datetime'].apply(lambda x: datetime.datetime.strftime(x, '%Y-%m-%d %H:%M:%S'))\n",
    "data = data[data.datetime>='2022-04-19 12:36:00']\n",
    "data.datetime = data.datetime.apply(lambda x: str(x))\n",
    "data.datetime = data.datetime.apply(lambda x: x[:-3])\n",
    "data = data.set_index('datetime')\n",
    "data.head()"
   ]
  },
  {
   "cell_type": "code",
   "execution_count": 36,
   "metadata": {},
   "outputs": [],
   "source": [
    "# Create a column 'Ret' with the calculation of returns\n",
    "data['Ret'] = (data['open'].shift(-1)-data['open'])/data['open']\n",
    "# Create a column by name, 'Signal' and initialize with 0\n",
    "data['Signal'] = 0\n",
    "# Assign a value of 1 to 'Signal' column for the quantile with the highest returns\n",
    "data.loc[data['Ret'] > data['Ret'].quantile(q=0.66), 'Signal'] = 1\n",
    "# Assign a value of -1 to 'Signal' column for the quantile with the lowest returns\n",
    "data.loc[data['Ret'] < data['Ret'].quantile(q=0.34), 'Signal'] = -1"
   ]
  },
  {
   "cell_type": "code",
   "execution_count": 37,
   "metadata": {},
   "outputs": [
    {
     "data": {
      "text/html": [
       "<div>\n",
       "<style scoped>\n",
       "    .dataframe tbody tr th:only-of-type {\n",
       "        vertical-align: middle;\n",
       "    }\n",
       "\n",
       "    .dataframe tbody tr th {\n",
       "        vertical-align: top;\n",
       "    }\n",
       "\n",
       "    .dataframe thead th {\n",
       "        text-align: right;\n",
       "    }\n",
       "</style>\n",
       "<table border=\"1\" class=\"dataframe\">\n",
       "  <thead>\n",
       "    <tr style=\"text-align: right;\">\n",
       "      <th></th>\n",
       "      <th>open</th>\n",
       "      <th>high</th>\n",
       "      <th>low</th>\n",
       "      <th>close</th>\n",
       "      <th>volume</th>\n",
       "      <th>Ret</th>\n",
       "      <th>Signal</th>\n",
       "    </tr>\n",
       "    <tr>\n",
       "      <th>datetime</th>\n",
       "      <th></th>\n",
       "      <th></th>\n",
       "      <th></th>\n",
       "      <th></th>\n",
       "      <th></th>\n",
       "      <th></th>\n",
       "      <th></th>\n",
       "    </tr>\n",
       "  </thead>\n",
       "  <tbody>\n",
       "    <tr>\n",
       "      <th>2022-04-19 12:36</th>\n",
       "      <td>1025.49</td>\n",
       "      <td>1025.50</td>\n",
       "      <td>1024.7720</td>\n",
       "      <td>1024.7720</td>\n",
       "      <td>4119</td>\n",
       "      <td>-0.000722</td>\n",
       "      <td>-1</td>\n",
       "    </tr>\n",
       "    <tr>\n",
       "      <th>2022-04-19 12:37</th>\n",
       "      <td>1024.75</td>\n",
       "      <td>1024.75</td>\n",
       "      <td>1023.5400</td>\n",
       "      <td>1024.1900</td>\n",
       "      <td>19469</td>\n",
       "      <td>-0.000546</td>\n",
       "      <td>-1</td>\n",
       "    </tr>\n",
       "    <tr>\n",
       "      <th>2022-04-19 12:38</th>\n",
       "      <td>1024.19</td>\n",
       "      <td>1024.22</td>\n",
       "      <td>1023.4000</td>\n",
       "      <td>1024.2200</td>\n",
       "      <td>10723</td>\n",
       "      <td>0.000137</td>\n",
       "      <td>0</td>\n",
       "    </tr>\n",
       "    <tr>\n",
       "      <th>2022-04-19 12:39</th>\n",
       "      <td>1024.33</td>\n",
       "      <td>1024.60</td>\n",
       "      <td>1024.0978</td>\n",
       "      <td>1024.1500</td>\n",
       "      <td>2956</td>\n",
       "      <td>-0.000010</td>\n",
       "      <td>0</td>\n",
       "    </tr>\n",
       "    <tr>\n",
       "      <th>2022-04-19 12:40</th>\n",
       "      <td>1024.32</td>\n",
       "      <td>1024.48</td>\n",
       "      <td>1023.2300</td>\n",
       "      <td>1023.7201</td>\n",
       "      <td>12342</td>\n",
       "      <td>-0.000430</td>\n",
       "      <td>-1</td>\n",
       "    </tr>\n",
       "  </tbody>\n",
       "</table>\n",
       "</div>"
      ],
      "text/plain": [
       "                     open     high        low      close  volume       Ret  \\\n",
       "datetime                                                                     \n",
       "2022-04-19 12:36  1025.49  1025.50  1024.7720  1024.7720    4119 -0.000722   \n",
       "2022-04-19 12:37  1024.75  1024.75  1023.5400  1024.1900   19469 -0.000546   \n",
       "2022-04-19 12:38  1024.19  1024.22  1023.4000  1024.2200   10723  0.000137   \n",
       "2022-04-19 12:39  1024.33  1024.60  1024.0978  1024.1500    2956 -0.000010   \n",
       "2022-04-19 12:40  1024.32  1024.48  1023.2300  1023.7201   12342 -0.000430   \n",
       "\n",
       "                  Signal  \n",
       "datetime                  \n",
       "2022-04-19 12:36      -1  \n",
       "2022-04-19 12:37      -1  \n",
       "2022-04-19 12:38       0  \n",
       "2022-04-19 12:39       0  \n",
       "2022-04-19 12:40      -1  "
      ]
     },
     "execution_count": 37,
     "metadata": {},
     "output_type": "execute_result"
    }
   ],
   "source": [
    "data.head()"
   ]
  },
  {
   "cell_type": "code",
   "execution_count": 38,
   "metadata": {},
   "outputs": [
    {
     "data": {
      "image/png": "[encoded data removed]",
      "text/plain": [
       "<Figure size 1500x300 with 1 Axes>"
      ]
     },
     "metadata": {},
     "output_type": "display_data"
    }
   ],
   "source": [
    "fig, ax = plt.subplots(figsize=(15,3))\n",
    "plot = sns.lineplot(x='datetime', y='open', data=data.reset_index().iloc[:60], marker='o')\n",
    "# Annotate label points \n",
    "for x,y,m in data.reset_index().iloc[:60][['datetime','open','Signal']].values:\n",
    "        ax.text(x,y+0.5,m, size=6)\n",
    "plt.title(\"Moving Open Price Value for TESLA\")\n",
    "plt.setp(plot.get_xticklabels(), rotation=90, size=8)\n",
    "plt.show()"
   ]
  },
  {
   "cell_type": "code",
   "execution_count": 39,
   "metadata": {},
   "outputs": [
    {
     "data": {
      "text/html": [
       "<div>\n",
       "<style scoped>\n",
       "    .dataframe tbody tr th:only-of-type {\n",
       "        vertical-align: middle;\n",
       "    }\n",
       "\n",
       "    .dataframe tbody tr th {\n",
       "        vertical-align: top;\n",
       "    }\n",
       "\n",
       "    .dataframe thead th {\n",
       "        text-align: right;\n",
       "    }\n",
       "</style>\n",
       "<table border=\"1\" class=\"dataframe\">\n",
       "  <thead>\n",
       "    <tr style=\"text-align: right;\">\n",
       "      <th></th>\n",
       "      <th>quote</th>\n",
       "      <th>Pred_Signal</th>\n",
       "    </tr>\n",
       "    <tr>\n",
       "      <th>datetime</th>\n",
       "      <th></th>\n",
       "      <th></th>\n",
       "    </tr>\n",
       "  </thead>\n",
       "  <tbody>\n",
       "    <tr>\n",
       "      <th>2022-04-19 12:36</th>\n",
       "      <td>1025.5500</td>\n",
       "      <td>1</td>\n",
       "    </tr>\n",
       "    <tr>\n",
       "      <th>2022-04-19 12:37</th>\n",
       "      <td>1024.8199</td>\n",
       "      <td>0</td>\n",
       "    </tr>\n",
       "    <tr>\n",
       "      <th>2022-04-19 12:38</th>\n",
       "      <td>1024.2100</td>\n",
       "      <td>-1</td>\n",
       "    </tr>\n",
       "    <tr>\n",
       "      <th>2022-04-19 12:39</th>\n",
       "      <td>1024.6600</td>\n",
       "      <td>0</td>\n",
       "    </tr>\n",
       "    <tr>\n",
       "      <th>2022-04-19 12:40</th>\n",
       "      <td>1024.3199</td>\n",
       "      <td>0</td>\n",
       "    </tr>\n",
       "  </tbody>\n",
       "</table>\n",
       "</div>"
      ],
      "text/plain": [
       "                      quote  Pred_Signal\n",
       "datetime                                \n",
       "2022-04-19 12:36  1025.5500            1\n",
       "2022-04-19 12:37  1024.8199            0\n",
       "2022-04-19 12:38  1024.2100           -1\n",
       "2022-04-19 12:39  1024.6600            0\n",
       "2022-04-19 12:40  1024.3199            0"
      ]
     },
     "execution_count": 39,
     "metadata": {},
     "output_type": "execute_result"
    }
   ],
   "source": [
    "df_predictions = pd.read_csv('testing_bot_results_4_19.csv', index_col='datetime')[['quote','Pred_Signal']]\n",
    "df_predictions.head()"
   ]
  },
  {
   "cell_type": "code",
   "execution_count": 41,
   "metadata": {},
   "outputs": [],
   "source": [
    "df_pred = pd.merge(data,df_predictions, how='left', left_index=True, right_index=True)"
   ]
  },
  {
   "cell_type": "code",
   "execution_count": 44,
   "metadata": {},
   "outputs": [
    {
     "data": {
      "text/plain": [
       "array([[18, 45,  6],\n",
       "       [13, 48,  5],\n",
       "       [13, 49,  7]], dtype=int64)"
      ]
     },
     "execution_count": 44,
     "metadata": {},
     "output_type": "execute_result"
    }
   ],
   "source": [
    "cm = confusion_matrix(df_pred.Signal, df_pred.Pred_Signal)\n",
    "cm"
   ]
  },
  {
   "cell_type": "code",
   "execution_count": 46,
   "metadata": {},
   "outputs": [
    {
     "ename": "NameError",
     "evalue": "name 'make_confusion_matrix' is not defined",
     "output_type": "error",
     "traceback": [
      "\u001b[1;31m---------------------------------------------------------------------------\u001b[0m",
      "\u001b[1;31mNameError\u001b[0m                                 Traceback (most recent call last)",
      "Input \u001b[1;32mIn [46]\u001b[0m, in \u001b[0;36m<cell line: 1>\u001b[1;34m()\u001b[0m\n\u001b[1;32m----> 1\u001b[0m \u001b[43mmake_confusion_matrix\u001b[49m(cf\u001b[38;5;241m=\u001b[39mcm, \n\u001b[0;32m      2\u001b[0m                       categories\u001b[38;5;241m=\u001b[39m[\u001b[38;5;124m'\u001b[39m\u001b[38;5;124m-1\u001b[39m\u001b[38;5;124m'\u001b[39m, \u001b[38;5;124m'\u001b[39m\u001b[38;5;124m0\u001b[39m\u001b[38;5;124m'\u001b[39m, \u001b[38;5;124m'\u001b[39m\u001b[38;5;124m1\u001b[39m\u001b[38;5;124m'\u001b[39m], figsize\u001b[38;5;241m=\u001b[39m(\u001b[38;5;241m4\u001b[39m,\u001b[38;5;241m3\u001b[39m), percent\u001b[38;5;241m=\u001b[39m\u001b[38;5;28;01mFalse\u001b[39;00m,\n\u001b[0;32m      3\u001b[0m                       title\u001b[38;5;241m=\u001b[39m\u001b[38;5;124m\"\u001b[39m\u001b[38;5;124mActual and Predicted values\u001b[39m\u001b[38;5;124m\"\u001b[39m)\n\u001b[0;32m      4\u001b[0m plt\u001b[38;5;241m.\u001b[39mshow()\n",
      "\u001b[1;31mNameError\u001b[0m: name 'make_confusion_matrix' is not defined"
     ]
    }
   ],
   "source": [
    "make_confusion_matrix(cf=cm, \n",
    "                      categories=['-1', '0', '1'], figsize=(4,3), percent=False,\n",
    "                      title=\"Actual and Predicted values\")\n",
    "plt.show()"
   ]
  },
  {
   "cell_type": "code",
   "execution_count": null,
   "metadata": {},
   "outputs": [],
   "source": []
  }
 ],
 "metadata": {
  "kernelspec": {
   "display_name": "Python 3",
   "language": "python",
   "name": "python3"
  },
  "language_info": {
   "codemirror_mode": {
    "name": "ipython",
    "version": 3
   },
   "file_extension": ".py",
   "mimetype": "text/x-python",
   "name": "python",
   "nbconvert_exporter": "python",
   "pygments_lexer": "ipython3",
   "version": "3.8.3"
  }
 },
 "nbformat": 4,
 "nbformat_minor": 4
}
